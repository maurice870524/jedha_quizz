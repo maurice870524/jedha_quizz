{
 "cells": [
  {
   "cell_type": "code",
   "execution_count": null,
   "metadata": {},
   "outputs": [],
   "source": [
    "#version sur 3 questions sans class\n",
    "\n",
    "tentatives = 3\n",
    "\n",
    "question_1 = input(\"Quel est le pire chef d'entreprise ? \").lower()\n",
    "print(question_1)\n",
    "while question_1 != \"elon musk\":\n",
    "    tentatives -= 1\n",
    "    print(f\"tu as encore {tentatives} tentative !\")\n",
    "    if tentatives == 0:\n",
    "        print(\"Tu es nul poto, tu as perdu\")\n",
    "        break\n",
    "    question_1 = input(\"Quel est le pire chef d'entreprise ? \").lower()\n",
    "\n",
    "if tentatives > 0:           \n",
    "    question_2 = int(input(\"Quel est le nombre de doigts d'une main ? \"))\n",
    "    while question_2 != 4 :\n",
    "        tentatives -= 1\n",
    "        print(f\"tu as encore {tentatives} tentative !\")\n",
    "        if tentatives == 0:\n",
    "            print(\"Tu es nul poto, tu as perdu\")\n",
    "            break\n",
    "        question_2 = int(input(\"Quel est le nombre de doigts d'une main ? \"))\n",
    "\n",
    "if tentatives>0:\n",
    "    question_3 = int(input(\"Quel est la date de naissance de Maurice ? \"))\n",
    "    while question_3 != 1987:\n",
    "        tentatives -= 1\n",
    "        print(f\"tu as encore {tentatives} tentative !\")\n",
    "        if tentatives == 0:\n",
    "            print(\"Tu es nul poto, tu as perdu\")\n",
    "            break\n",
    "        question_3 = int(input(\"Quel est la date de naissance de Maurice ?\")).lower()\n",
    "\n",
    "if tentatives> 0:\n",
    "    print(\"Bravo, tu déchires, tu as gagner le test\")\n"
   ]
  },
  {
   "cell_type": "markdown",
   "metadata": {},
   "source": [
    "faire une class (aide mémoire) :\n",
    "\n",
    "- X questions listes , X bonnes réponses liste , X tentatives.\n",
    "- réponse_user\n",
    "\n",
    "\n",
    "- si la réponse est un chiffre : \n",
    "    input d'un integer\n",
    "- si la réponse est un string :\n",
    "    input lower case\n",
    "\n",
    "- tentatives supérieurs à 0.\n",
    "- while tant que réponse_user != good answer \n",
    "- tentatives -= 1\n",
    "- si tentatives ==0 print t'as perdu\n",
    "\n",
    "\n",
    "\n"
   ]
  },
  {
   "cell_type": "code",
   "execution_count": null,
   "metadata": {},
   "outputs": [
    {
     "name": "stdout",
     "output_type": "stream",
     "text": [
      "Bienvenue au super Quizz ! Il est composé de 3 questions et tu as 3 chances pour gagner. C'est parti ...\n",
      "Mauvaise réponse, tu as encore 2 tentatives !\n",
      "Mauvaise réponse, tu as encore 1 tentatives !\n",
      "Mauvaise réponse, tu as encore 0 tentatives !\n",
      "Tu as perdu le quizz. Dommage\n"
     ]
    }
   ],
   "source": [
    "# quizz avec class, attribut et méthodes.\n",
    "\n",
    "class QuizzMaurice:\n",
    "    \n",
    "    def __init__(self, questions, good_answers, attempts=3):\n",
    "        self.questions = questions\n",
    "        self.good_answers = good_answers\n",
    "        self.attempts = attempts\n",
    "    \n",
    "    def questions_answers(self):\n",
    "        print(f\"Bienvenue au super Quizz ! Il est composé de {len(self.questions)} questions et tu as {self.attempts} chances pour gagner. C'est parti ...\")\n",
    "        \n",
    "        for index in range(len(self.questions)):\n",
    "            while self.attempts > 0:\n",
    "                user_answer = input(self.questions[index]).lower\n",
    "                \n",
    "                try:\n",
    "                    if isinstance(self.good_answers[index], int):\n",
    "                        user_answer = int(user_answer)\n",
    "                except ValueError:\n",
    "                    print(\"Tu dois renseigner un chiffre.\")\n",
    "                    continue\n",
    "                \n",
    "                if self.good_answers[index] == user_answer:\n",
    "                    print(\"Bravo, tu as répondu à la question ! Question suivante...\")\n",
    "                    break\n",
    "                else:\n",
    "                    self.attempts -= 1\n",
    "                    print(f\"Mauvaise réponse, tu as encore {self.attempts} tentatives !\")\n",
    "        \n",
    "        if self.attempts > 0:\n",
    "            print(\"Bravo, tu as réussi le Quizz !!\")\n",
    "        else:\n",
    "            print(\"Tu as perdu le quizz. Dommage\")\n",
    "\n",
    "\n",
    "quizz = QuizzMaurice([\"Quelle couleur est le cheval blanc?\", \"Quel est le nbr de doigts d'une main ?\", \"De quelle couleur est le ciel ? \"], [\"blanc\", 5, \"bleu\"])\n",
    "\n",
    "quizz.questions_answers()\n"
   ]
  }
 ],
 "metadata": {
  "kernelspec": {
   "display_name": "base",
   "language": "python",
   "name": "python3"
  },
  "language_info": {
   "codemirror_mode": {
    "name": "ipython",
    "version": 3
   },
   "file_extension": ".py",
   "mimetype": "text/x-python",
   "name": "python",
   "nbconvert_exporter": "python",
   "pygments_lexer": "ipython3",
   "version": "3.12.4"
  }
 },
 "nbformat": 4,
 "nbformat_minor": 2
}
